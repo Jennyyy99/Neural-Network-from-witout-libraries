{
 "cells": [
  {
   "cell_type": "markdown",
   "id": "596597b1",
   "metadata": {},
   "source": [
    "# Implementing a Simple Classifier of letters using Numpy"
   ]
  },
  {
   "cell_type": "code",
   "execution_count": 1,
   "id": "168166ae",
   "metadata": {},
   "outputs": [
    {
     "data": {
      "text/html": [
       "<div>\n",
       "<style scoped>\n",
       "    .dataframe tbody tr th:only-of-type {\n",
       "        vertical-align: middle;\n",
       "    }\n",
       "\n",
       "    .dataframe tbody tr th {\n",
       "        vertical-align: top;\n",
       "    }\n",
       "\n",
       "    .dataframe thead th {\n",
       "        text-align: right;\n",
       "    }\n",
       "</style>\n",
       "<table border=\"1\" class=\"dataframe\">\n",
       "  <thead>\n",
       "    <tr style=\"text-align: right;\">\n",
       "      <th></th>\n",
       "      <th>23</th>\n",
       "      <th>0</th>\n",
       "      <th>0.1</th>\n",
       "      <th>0.2</th>\n",
       "      <th>0.3</th>\n",
       "      <th>0.4</th>\n",
       "      <th>0.5</th>\n",
       "      <th>0.6</th>\n",
       "      <th>0.7</th>\n",
       "      <th>0.8</th>\n",
       "      <th>...</th>\n",
       "      <th>0.406</th>\n",
       "      <th>0.407</th>\n",
       "      <th>0.408</th>\n",
       "      <th>0.409</th>\n",
       "      <th>0.410</th>\n",
       "      <th>0.411</th>\n",
       "      <th>0.412</th>\n",
       "      <th>0.413</th>\n",
       "      <th>0.414</th>\n",
       "      <th>0.415</th>\n",
       "    </tr>\n",
       "  </thead>\n",
       "  <tbody>\n",
       "    <tr>\n",
       "      <th>0</th>\n",
       "      <td>7</td>\n",
       "      <td>0</td>\n",
       "      <td>0</td>\n",
       "      <td>0</td>\n",
       "      <td>0</td>\n",
       "      <td>0</td>\n",
       "      <td>0</td>\n",
       "      <td>0</td>\n",
       "      <td>0</td>\n",
       "      <td>0</td>\n",
       "      <td>...</td>\n",
       "      <td>0</td>\n",
       "      <td>0</td>\n",
       "      <td>0</td>\n",
       "      <td>0</td>\n",
       "      <td>0</td>\n",
       "      <td>0</td>\n",
       "      <td>0</td>\n",
       "      <td>0</td>\n",
       "      <td>0</td>\n",
       "      <td>0</td>\n",
       "    </tr>\n",
       "    <tr>\n",
       "      <th>1</th>\n",
       "      <td>16</td>\n",
       "      <td>0</td>\n",
       "      <td>0</td>\n",
       "      <td>0</td>\n",
       "      <td>0</td>\n",
       "      <td>0</td>\n",
       "      <td>0</td>\n",
       "      <td>0</td>\n",
       "      <td>0</td>\n",
       "      <td>0</td>\n",
       "      <td>...</td>\n",
       "      <td>0</td>\n",
       "      <td>0</td>\n",
       "      <td>0</td>\n",
       "      <td>0</td>\n",
       "      <td>0</td>\n",
       "      <td>0</td>\n",
       "      <td>0</td>\n",
       "      <td>0</td>\n",
       "      <td>0</td>\n",
       "      <td>0</td>\n",
       "    </tr>\n",
       "    <tr>\n",
       "      <th>2</th>\n",
       "      <td>15</td>\n",
       "      <td>0</td>\n",
       "      <td>0</td>\n",
       "      <td>0</td>\n",
       "      <td>0</td>\n",
       "      <td>0</td>\n",
       "      <td>0</td>\n",
       "      <td>0</td>\n",
       "      <td>0</td>\n",
       "      <td>0</td>\n",
       "      <td>...</td>\n",
       "      <td>0</td>\n",
       "      <td>0</td>\n",
       "      <td>0</td>\n",
       "      <td>0</td>\n",
       "      <td>0</td>\n",
       "      <td>0</td>\n",
       "      <td>0</td>\n",
       "      <td>0</td>\n",
       "      <td>0</td>\n",
       "      <td>0</td>\n",
       "    </tr>\n",
       "    <tr>\n",
       "      <th>3</th>\n",
       "      <td>23</td>\n",
       "      <td>0</td>\n",
       "      <td>0</td>\n",
       "      <td>0</td>\n",
       "      <td>0</td>\n",
       "      <td>0</td>\n",
       "      <td>0</td>\n",
       "      <td>0</td>\n",
       "      <td>0</td>\n",
       "      <td>0</td>\n",
       "      <td>...</td>\n",
       "      <td>0</td>\n",
       "      <td>0</td>\n",
       "      <td>0</td>\n",
       "      <td>0</td>\n",
       "      <td>0</td>\n",
       "      <td>0</td>\n",
       "      <td>0</td>\n",
       "      <td>0</td>\n",
       "      <td>0</td>\n",
       "      <td>0</td>\n",
       "    </tr>\n",
       "    <tr>\n",
       "      <th>4</th>\n",
       "      <td>17</td>\n",
       "      <td>0</td>\n",
       "      <td>0</td>\n",
       "      <td>0</td>\n",
       "      <td>0</td>\n",
       "      <td>0</td>\n",
       "      <td>0</td>\n",
       "      <td>0</td>\n",
       "      <td>0</td>\n",
       "      <td>0</td>\n",
       "      <td>...</td>\n",
       "      <td>0</td>\n",
       "      <td>0</td>\n",
       "      <td>0</td>\n",
       "      <td>0</td>\n",
       "      <td>0</td>\n",
       "      <td>0</td>\n",
       "      <td>0</td>\n",
       "      <td>0</td>\n",
       "      <td>0</td>\n",
       "      <td>0</td>\n",
       "    </tr>\n",
       "  </tbody>\n",
       "</table>\n",
       "<p>5 rows × 785 columns</p>\n",
       "</div>"
      ],
      "text/plain": [
       "   23  0  0.1  0.2  0.3  0.4  0.5  0.6  0.7  0.8  ...  0.406  0.407  0.408  \\\n",
       "0   7  0    0    0    0    0    0    0    0    0  ...      0      0      0   \n",
       "1  16  0    0    0    0    0    0    0    0    0  ...      0      0      0   \n",
       "2  15  0    0    0    0    0    0    0    0    0  ...      0      0      0   \n",
       "3  23  0    0    0    0    0    0    0    0    0  ...      0      0      0   \n",
       "4  17  0    0    0    0    0    0    0    0    0  ...      0      0      0   \n",
       "\n",
       "   0.409  0.410  0.411  0.412  0.413  0.414  0.415  \n",
       "0      0      0      0      0      0      0      0  \n",
       "1      0      0      0      0      0      0      0  \n",
       "2      0      0      0      0      0      0      0  \n",
       "3      0      0      0      0      0      0      0  \n",
       "4      0      0      0      0      0      0      0  \n",
       "\n",
       "[5 rows x 785 columns]"
      ]
     },
     "execution_count": 1,
     "metadata": {},
     "output_type": "execute_result"
    }
   ],
   "source": [
    "import numpy as np\n",
    "import pandas as pd\n",
    "from matplotlib import pyplot as plt\n",
    "data=pd.read_csv(\"/Users/TT/Downloads/emnist-letters-train.csv\")\n",
    "data.head()"
   ]
  },
  {
   "cell_type": "markdown",
   "id": "9241d0a8",
   "metadata": {},
   "source": [
    "Our training dataset is ~ 87k grayscale images of shape 28 * 28 "
   ]
  },
  {
   "cell_type": "markdown",
   "id": "2b323dae",
   "metadata": {},
   "source": [
    "when we loaded the csv we had 785 columns for 28 * 28 pixels and 1 for the labels, so we will transform the data to obain the examples as the columns, the pixels in the rows, as well as a seperate vector for the labels Y"
   ]
  },
  {
   "cell_type": "code",
   "execution_count": 2,
   "id": "0e526d2e",
   "metadata": {},
   "outputs": [
    {
     "data": {
      "text/plain": [
       "(784, 87799)"
      ]
     },
     "execution_count": 2,
     "metadata": {},
     "output_type": "execute_result"
    }
   ],
   "source": [
    "data = np.array(data)\n",
    "m, n = data.shape\n",
    "np.random.shuffle(data) # shuffle before splitting into dev and training sets\n",
    "\n",
    "data_dev = data[0:1000].T\n",
    "Y_test = data_dev[0]\n",
    "X_test = data_dev[1:n]\n",
    "X_test = X_dev / 255.\n",
    "\n",
    "data_train = data[1000:m].T\n",
    "Y_train = data_train[0]\n",
    "X_train = data_train[1:n]\n",
    "X_train = X_train / 255.\n",
    "_,m_train = X_train.shape\n",
    "X_train.shape"
   ]
  },
  {
   "cell_type": "code",
   "execution_count": 3,
   "id": "2c02bbce",
   "metadata": {},
   "outputs": [],
   "source": [
    "#Mapping label number to letter\n",
    "Mapping={\n",
    "1:'A',\n",
    "2:'B',\n",
    "3:'C',\n",
    "4:'D',\n",
    "5:'E',\n",
    "6:'F',\n",
    "7:'G',\n",
    "8:'H',\n",
    "9:'I',\n",
    "10:'J',\n",
    "11\t:'K',\n",
    "12:\t'L',\n",
    "13\t:'M',\n",
    "14\t:'N',\n",
    "15:\t'O',\n",
    "16:\t'P',\n",
    "17\t:'Q',\n",
    "18\t:'R',\n",
    "19\t:'S',\n",
    "20\t:'T',\n",
    "21\t:'U',\n",
    "22\t:'V',\n",
    "23\t:'W',\n",
    "24\t:'X',\n",
    "25:'Y',\n",
    "26\t:'Z'}"
   ]
  },
  {
   "attachments": {},
   "cell_type": "markdown",
   "id": "f79f3e18",
   "metadata": {},
   "source": [
    "We initialize the parameters of the hidden layer to take 784 inputs in 61 neurons. \n",
    "Knowing that n=number of examples and m= number of inputs(pixels), X_train’s shape is (mxn), so the matrix of weights of the hidden layer w1’ s shape should be (number of neurons x m).\n",
    "Using a random function that will give us numbers between 0 and 1 and subtracting by 0.5 will give us equally positive and negative numbers.\n",
    "The second matrix of weights(output layer)’s shape is (number of outputs from the hidden layer x number of final outputs), thus (2x61).\n",
    "I also created a bias for each neuron."
   ]
  },
  {
   "cell_type": "code",
   "execution_count": 4,
   "id": "1032ce21",
   "metadata": {},
   "outputs": [],
   "source": [
    "def init_params():\n",
    "    W1 = np.random.rand(27, 784) - 0.5\n",
    "    b1 = np.random.rand(27, 1) - 0.5\n",
    "    W2 = np.random.rand(27, 27) - 0.5\n",
    "    b2 = np.random.rand(27, 1) - 0.5\n",
    "    return W1, b1, W2, b2"
   ]
  },
  {
   "cell_type": "code",
   "execution_count": 5,
   "id": "7761c166",
   "metadata": {},
   "outputs": [],
   "source": [
    "def ReLU(Z):\n",
    "    return np.maximum(Z, 0)\n",
    "\n",
    "def sigmoid(x):\n",
    "    return 1.0/(1.0 + np.exp(-x))\n",
    "\n",
    "def sigmoid_der(x):\n",
    "    return x*(1.0 - x)\n",
    "\n",
    "def ReLU_deriv(Z):\n",
    "    return Z > 0"
   ]
  },
  {
   "attachments": {},
   "cell_type": "markdown",
   "id": "9cfffa8c",
   "metadata": {},
   "source": [
    "In the forward function I will return the output of each layer before and after the activation function.\n",
    "Z1 and A1 will have the shape (61,115322),\n",
    "While Z2 and A2 will have the shape (2,115322) "
   ]
  },
  {
   "cell_type": "code",
   "execution_count": 6,
   "id": "936a77dc",
   "metadata": {},
   "outputs": [],
   "source": [
    "def forward_prop(W1, b1, W2, b2, X):\n",
    "    Z1 = W1.dot(X) + b1\n",
    "    A1 = ReLU(Z1)\n",
    "    Z2 = W2.dot(A1) + b2\n",
    "    A2 = sigmoid(Z2)\n",
    "    return Z1, A1, Z2, A2"
   ]
  },
  {
   "attachments": {},
   "cell_type": "markdown",
   "id": "3b0d89b3",
   "metadata": {},
   "source": [
    "The first row of the data matrix was the label so we put that into a vector called Y_train but we want to dummy encode the result in a matrix.\n",
    "This function creates an array filled with zeros with:\n",
    "The number of rows = the number of examples. \n",
    "The number of columns = the maximum label+1 to account for 0.\n",
    "Then I iterate through each row and replace 0 by 1 on the corresponding column. Then I transpose the matrix so that one_hot_Y has 2 rows the same as the output A2. "
   ]
  },
  {
   "cell_type": "code",
   "execution_count": 7,
   "id": "5f9ec581",
   "metadata": {},
   "outputs": [],
   "source": [
    "def one_hot(Y):\n",
    "    one_hot_Y = np.zeros((Y.size, Y.max() + 1))\n",
    "    one_hot_Y[np.arange(Y.size), Y] = 1\n",
    "    one_hot_Y = one_hot_Y.T\n",
    "    return one_hot_Y"
   ]
  },
  {
   "attachments": {},
   "cell_type": "markdown",
   "id": "1a503d90",
   "metadata": {},
   "source": [
    "After dummy encoding the desired value vector, I can obtain the error value of the output layer which is done simply by subtracting output-desired, then I append the average cost to a list to plot later. I tried multiplying with the sigmoid derivative of A2 but that slowed the learning of the model.\n",
    "To adjust the weights of the output layer I multiplied the error matrix by the output matrix of the first layer transposed and normalized by dividing by the number of examples. Not normalizing results in a overflow warning with the exp() function because it can’t handle such big numbers and would cause the accuracy to decrease."
   ]
  },
  {
   "cell_type": "code",
   "execution_count": 8,
   "id": "2b58c151",
   "metadata": {},
   "outputs": [],
   "source": [
    "def backward_prop(Z1, A1, Z2, A2, W1, W2, X, Y,costs):\n",
    "    one_hot_Y= one_hot(Y)\n",
    "    dZ2 = A2 - one_hot_Y\n",
    "    costs.append(np.mean(abs(dZ2)))\n",
    "    dW2 = 1 / m * dZ2.dot(A1.T)\n",
    "    db2 = 1 / m * np.sum(dZ2)\n",
    "    dZ1 = W2.T.dot(dZ2) * ReLU_deriv(Z1)\n",
    "    dW1 = 1 / m * dZ1.dot(X.T)\n",
    "    db1 = 1 / m * np.sum(dZ1)\n",
    "    return dW1, db1, dW2, db2,costs"
   ]
  },
  {
   "attachments": {},
   "cell_type": "markdown",
   "id": "f6a60149",
   "metadata": {},
   "source": [
    "To calculate the ‘error’ of the hidden layer I multiplied the weights of the output layer transposed (before adjusting) with the error matrix and then multiplied by the ReLu derivative of the output of the hidden layer.\n",
    "To adjust the weights of the hidden layer I multiplied the error I just calculated with the input matrix transposed and normalized the matrix.\n",
    "To adjust the bias I computed the average of the errors at each layer.\n",
    "Then I returned the adjustment matrices and the list of the costs"
   ]
  },
  {
   "cell_type": "code",
   "execution_count": 9,
   "id": "2d1c3d0e",
   "metadata": {},
   "outputs": [],
   "source": [
    "def update_params(W1, b1, W2, b2, dW1, db1, dW2, db2, alpha):\n",
    "    W1 = W1 - alpha * dW1\n",
    "    b1 = b1 - alpha * db1    \n",
    "    W2 = W2 - alpha * dW2  \n",
    "    b2 = b2 - alpha * db2    \n",
    "    return W1, b1, W2, b2"
   ]
  },
  {
   "cell_type": "code",
   "execution_count": 10,
   "id": "9a139319",
   "metadata": {},
   "outputs": [],
   "source": [
    "def get_predictions(A2):\n",
    "    return np.argmax(A2, 0)\n",
    "\n",
    "def get_accuracy(predictions, Y):\n",
    "    print(predictions, Y)\n",
    "    return np.sum(predictions == Y) / Y.size\n"
   ]
  },
  {
   "attachments": {},
   "cell_type": "markdown",
   "id": "9d53164a",
   "metadata": {},
   "source": [
    "To put everything together, first I initialized the parameters and the costs list, then for a fixed amount of iterations I did one forward, one backward and one update to the parameters. Then for each 100 iterations I printed the output A2 (the maximum output out of 27 neurons) and the accuracy. "
   ]
  },
  {
   "cell_type": "code",
   "execution_count": 11,
   "id": "c0c20478",
   "metadata": {},
   "outputs": [],
   "source": [
    "def gradient_descent(X, Y, alpha, iterations):\n",
    "    W1, b1, W2, b2 = init_params()\n",
    "    costs=[]\n",
    "    for i in range(iterations):\n",
    "        Z1, A1, Z2, A2 = forward_prop(W1, b1, W2, b2, X)\n",
    "        dW1, db1, dW2, db2,costs = backward_prop(Z1, A1, Z2, A2, W1, W2, X, Y,costs)\n",
    "        W1, b1, W2, b2 = update_params(W1, b1, W2, b2, dW1, db1, dW2, db2, alpha)\n",
    "        if i % 100 == 0:\n",
    "            print(\"Iteration: \", i)\n",
    "            predictions = get_predictions(A2)\n",
    "            print(get_accuracy(predictions, Y))\n",
    "    return W1, b1, W2, b2,costs"
   ]
  },
  {
   "cell_type": "code",
   "execution_count": 12,
   "id": "ac93ae39",
   "metadata": {},
   "outputs": [
    {
     "name": "stdout",
     "output_type": "stream",
     "text": [
      "Iteration:  0\n",
      "[ 6 10  6 ... 10  5  5] [10 14  6 ...  1 22 13]\n",
      "0.03763140810259798\n",
      "Iteration:  100\n",
      "[22 10  6 ...  9  5 23] [10 14  6 ...  1 22 13]\n",
      "0.23349924258818439\n",
      "Iteration:  200\n",
      "[22  4  6 ...  4 14 23] [10 14  6 ...  1 22 13]\n",
      "0.37572181915511565\n",
      "Iteration:  300\n",
      "[26  8  6 ...  4 14 13] [10 14  6 ...  1 22 13]\n",
      "0.4553013132268021\n",
      "Iteration:  400\n",
      "[10  8  6 ... 24 14 13] [10 14  6 ...  1 22 13]\n",
      "0.5028872766204626\n",
      "Iteration:  500\n",
      "[10  8  6 ... 24 14 13] [10 14  6 ...  1 22 13]\n",
      "0.5353933416098133\n",
      "Iteration:  600\n",
      "[10  8  6 ... 24 14 13] [10 14  6 ...  1 22 13]\n",
      "0.5596532990125173\n",
      "Iteration:  700\n",
      "[10  8  6 ... 24 14 13] [10 14  6 ...  1 22 13]\n",
      "0.57967630610827\n",
      "Iteration:  800\n",
      "[10  8  6 ... 24 14 13] [10 14  6 ...  1 22 13]\n",
      "0.5962254695383774\n",
      "Iteration:  900\n",
      "[10  8  6 ... 24 14 13] [10 14  6 ...  1 22 13]\n",
      "0.6093919065137416\n",
      "Iteration:  1000\n",
      "[10  8  6 ... 24 14 13] [10 14  6 ...  1 22 13]\n",
      "0.6205309855465324\n",
      "Iteration:  1100\n",
      "[10  8  6 ... 24 14 13] [10 14  6 ...  1 22 13]\n",
      "0.6309980751489197\n",
      "Iteration:  1200\n",
      "[10  8  6 ... 24 14 13] [10 14  6 ...  1 22 13]\n",
      "0.6394605861114592\n",
      "Iteration:  1300\n",
      "[10  8  6 ... 24 14 13] [10 14  6 ...  1 22 13]\n",
      "0.6457704529664346\n",
      "Iteration:  1400\n",
      "[10  8  6 ... 24 14 13] [10 14  6 ...  1 22 13]\n",
      "0.6515563958587227\n",
      "Iteration:  1500\n",
      "[10  8  6 ... 24 14 13] [10 14  6 ...  1 22 13]\n",
      "0.657581521429629\n"
     ]
    }
   ],
   "source": [
    "W1, b1, W2, b2,costs = gradient_descent(X_train, Y_train, 0.10, 1501)"
   ]
  },
  {
   "cell_type": "code",
   "execution_count": 13,
   "id": "799abe47",
   "metadata": {},
   "outputs": [
    {
     "data": {
      "image/png": "[encoded data removed]",
      "text/plain": [
       "<Figure size 432x288 with 1 Axes>"
      ]
     },
     "metadata": {
      "needs_background": "light"
     },
     "output_type": "display_data"
    }
   ],
   "source": [
    "plt.plot(costs)\n",
    "plt.show()"
   ]
  },
  {
   "attachments": {},
   "cell_type": "markdown",
   "id": "291295ca",
   "metadata": {},
   "source": [
    "I defined a function to make a prediction for a specific index in X_test (the test array). We remember that each column on our array consists of an example so store that image in the variable current_image then we run one forward iteration using the prediction function. After that we reshape that image and bring it back to a 255 scale so we can plot it, we print the label and the prediction as well. \n"
   ]
  },
  {
   "cell_type": "code",
   "execution_count": 14,
   "id": "1c586810",
   "metadata": {},
   "outputs": [],
   "source": [
    "def make_predictions(X, W1, b1, W2, b2):\n",
    "    _, _, _, A2 = forward_prop(W1, b1, W2, b2, X)\n",
    "    predictions = get_predictions(A2)\n",
    "    return predictions\n",
    "\n",
    "def test_prediction(index, W1, b1, W2, b2,Mapping,X_dev,Y_dev):\n",
    "    current_image = X_dev[:, index, None]\n",
    "    prediction = make_predictions(X_dev[:, index, None], W1, b1, W2, b2)\n",
    "    label = Y_dev[index]\n",
    "    print(\"Prediction: \", Mapping[prediction[0]])\n",
    "    print(\"Label: \", Mapping[label])\n",
    "    \n",
    "    current_image = current_image.reshape((28, 28)) * 255\n",
    "    plt.gray()\n",
    "    plt.imshow(current_image, interpolation='nearest')\n",
    "    plt.show()"
   ]
  },
  {
   "cell_type": "code",
   "execution_count": 15,
   "id": "5c474282",
   "metadata": {},
   "outputs": [
    {
     "name": "stdout",
     "output_type": "stream",
     "text": [
      "Prediction:  Y\n",
      "Label:  Y\n"
     ]
    },
    {
     "data": {
      "image/png": "[encoded data removed]",
      "text/plain": [
       "<Figure size 432x288 with 1 Axes>"
      ]
     },
     "metadata": {
      "needs_background": "light"
     },
     "output_type": "display_data"
    }
   ],
   "source": [
    "test_prediction(89, W1, b1, W2, b2,Mapping,X_dev,Y_dev)"
   ]
  },
  {
   "cell_type": "code",
   "execution_count": 16,
   "id": "72342fb4",
   "metadata": {},
   "outputs": [
    {
     "name": "stdout",
     "output_type": "stream",
     "text": [
      "Prediction:  Z\n",
      "Label:  Z\n"
     ]
    },
    {
     "data": {
      "image/png": "[encoded data removed]",
      "text/plain": [
       "<Figure size 432x288 with 1 Axes>"
      ]
     },
     "metadata": {
      "needs_background": "light"
     },
     "output_type": "display_data"
    }
   ],
   "source": [
    "test_prediction(5, W1, b1, W2, b2,Mapping,X_dev,Y_dev)"
   ]
  },
  {
   "cell_type": "code",
   "execution_count": 17,
   "id": "0e1453d5",
   "metadata": {},
   "outputs": [
    {
     "name": "stdout",
     "output_type": "stream",
     "text": [
      "Prediction:  E\n",
      "Label:  E\n"
     ]
    },
    {
     "data": {
      "image/png": "[encoded data removed]",
      "text/plain": [
       "<Figure size 432x288 with 1 Axes>"
      ]
     },
     "metadata": {
      "needs_background": "light"
     },
     "output_type": "display_data"
    }
   ],
   "source": [
    "test_prediction(90, W1, b1, W2, b2,Mapping,X_dev,Y_dev)"
   ]
  },
  {
   "cell_type": "code",
   "execution_count": 18,
   "id": "fc9dbaeb",
   "metadata": {},
   "outputs": [
    {
     "name": "stdout",
     "output_type": "stream",
     "text": [
      "Prediction:  W\n",
      "Label:  F\n"
     ]
    },
    {
     "data": {
      "image/png": "[encoded data removed]",
      "text/plain": [
       "<Figure size 432x288 with 1 Axes>"
      ]
     },
     "metadata": {
      "needs_background": "light"
     },
     "output_type": "display_data"
    }
   ],
   "source": [
    "test_prediction(2, W1, b1, W2, b2,Mapping,X_dev,Y_dev)"
   ]
  },
  {
   "cell_type": "code",
   "execution_count": 19,
   "id": "a2ba733f",
   "metadata": {},
   "outputs": [
    {
     "name": "stdout",
     "output_type": "stream",
     "text": [
      "Prediction:  P\n",
      "Label:  P\n"
     ]
    },
    {
     "data": {
      "image/png": "[encoded data removed]",
      "text/plain": [
       "<Figure size 432x288 with 1 Axes>"
      ]
     },
     "metadata": {
      "needs_background": "light"
     },
     "output_type": "display_data"
    }
   ],
   "source": [
    "test_prediction(615, W1, b1, W2, b2,Mapping,X_dev,Y_dev)"
   ]
  },
  {
   "cell_type": "code",
   "execution_count": null,
   "id": "72b022a8",
   "metadata": {},
   "outputs": [],
   "source": []
  }
 ],
 "metadata": {
  "kernelspec": {
   "display_name": "Python 3",
   "language": "python",
   "name": "python3"
  },
  "language_info": {
   "codemirror_mode": {
    "name": "ipython",
    "version": 3
   },
   "file_extension": ".py",
   "mimetype": "text/x-python",
   "name": "python",
   "nbconvert_exporter": "python",
   "pygments_lexer": "ipython3",
   "version": "3.8.8"
  }
 },
 "nbformat": 4,
 "nbformat_minor": 5
}
